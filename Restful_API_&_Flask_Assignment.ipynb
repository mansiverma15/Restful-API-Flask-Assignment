{
  "cells": [
    {
      "cell_type": "markdown",
      "source": [
        "#Restful API & Flask Assignment"
      ],
      "metadata": {
        "id": "RcOl1BV_k-QF"
      },
      "id": "RcOl1BV_k-QF"
    },
    {
      "cell_type": "markdown",
      "source": [
        "## Theoritical Questions"
      ],
      "metadata": {
        "id": "U0Nf3KyjkyMM"
      },
      "id": "U0Nf3KyjkyMM"
    },
    {
      "cell_type": "markdown",
      "id": "b93d046b",
      "metadata": {
        "id": "b93d046b"
      },
      "source": [
        "1) What is a RESTful API?\n",
        "- A RESTful API (Representational State Transfer) is a web service that follows REST principles, enabling communication between client and server using standard HTTP methods like GET, POST, PUT, and DELETE.\n",
        "\n",
        "2) Explain the concept of API specification.\n",
        "- An API specification defines the rules and structure of how an API interacts with clients, detailing endpoints, request methods, request/response formats, and authentication mechanisms.\n",
        "\n",
        "3) What is Flask, and why is it popular for building APIs?\n",
        "- Flask is a lightweight Python web framework that simplifies API development with minimal setup, flexibility, and extensive third-party extensions. It's popular for its simplicity and scalability.\n",
        "\n",
        "4) What is routing in Flask?\n",
        "- Routing in Flask maps URLs to view functions, allowing developers to define how the application responds to different requests via decorators like @app.route().\n",
        "\n",
        "5) How do you create a simple Flask application?\n",
        "- To create a simple Flask app, import Flask, initialize it (app = Flask(__name__)), define routes using @app.route(), and run the app with app.run().\n",
        "\n",
        "6) What are HTTP methods used in RESTful APIs?\n",
        "- RESTful APIs commonly use HTTP methods like GET (retrieve data), POST (create data), PUT (update data), DELETE (remove data), and PATCH (partial update).\n",
        "\n",
        "7) What is the purpose of the @app.route() decorator in Flask?\n",
        "- The @app.route() decorator maps URLs to specific functions, defining how the app responds to requests made to those URLs.\n",
        "\n",
        "8) What is the difference between GET and POST HTTP methods?\n",
        "- GET retrieves data from the server without affecting it, while POST sends data to the server to create or update resources. GET is less secure for sensitive data.\n",
        "\n",
        "9) How do you handle errors in Flask APIs?\n",
        "- Errors in Flask APIs are handled using try-except blocks, abort() for HTTP errors, and custom error handlers with @app.errorhandler().\n",
        "\n",
        "10) How do you connect Flask to a SQL database?\n",
        "- Flask can connect to SQL databases using Flask-SQLAlchemy, an ORM extension, or by using database drivers like PyMySQL for direct connections.\n",
        "\n",
        "11) What is the role of Flask-SQLAlchemy?\n",
        "- Flask-SQLAlchemy is an ORM that simplifies database interaction by mapping Python classes to database tables, making query handling easier.\n",
        "\n",
        "12) What are Flask blueprints, and how are they useful?\n",
        "- Flask blueprints help organize large applications by grouping routes, templates, and static files, enhancing modularity and code reusability.\n",
        "\n",
        "13) What is the purpose of Flask's request object?\n",
        "- The request object in Flask accesses incoming request data like form data, query parameters, headers, and cookies.\n",
        "\n",
        "14) How do you create a RESTful API endpoint using Flask?\n",
        "- Create a RESTful endpoint using @app.route() with appropriate HTTP methods (methods=['GET', 'POST']) and a function to handle requests.\n",
        "\n",
        "15) What is the purpose of Flask's jsonify() function?\n",
        "- jsonify() converts Python dictionaries or data structures to a JSON response, making it easy to return API responses.\n",
        "\n",
        "16) Explain Flask's url_for() function.\n",
        "- url_for() dynamically generates URLs for view functions, ensuring consistent URL building and simplifying URL management.\n",
        "\n",
        "17) How does Flask handle static files (CSS, JavaScript, etc.)?\n",
        "- Flask serves static files from the static directory, accessible via /static/<filename>. Use url_for('static', filename='style.css') for referencing.\n",
        "\n",
        "18) What is an API specification, and how does it help in building a Flask API?\n",
        "- An API specification defines the structure and behavior of an API, ensuring consistency, documentation, and guiding frontend-backend communication.\n",
        "\n",
        "19) What are HTTP status codes, and why are they important in a Flask API?\n",
        "- HTTP status codes indicate the result of a request (e.g., 200 for success, 404 for not found), helping developers understand the request outcome.\n",
        "\n",
        "20) How do you handle POST requests in Flask?\n",
        "- POST requests are handled using @app.route('/endpoint', methods=['POST']), accessing data with request.form, request.json, or request.data.\n",
        "\n",
        "21) How would you secure a Flask API?\n",
        "- Secure a Flask API using authentication (JWT, OAuth), HTTPS, input validation, error handling, and CORS management with Flask-CORS.\n",
        "\n",
        "22) What is the significance of the Flask-RESTful extension?\n",
        "- Flask-RESTful simplifies API development by providing tools for resource management, request parsing, and error handling in a structured manner.\n",
        "\n",
        "23) What is the role of Flask’s session object?\n",
        "- The session object stores user-specific data across requests using cookies, allowing secure, temporary data storage during a user's session.\n",
        "\n"
      ]
    },
    {
      "cell_type": "markdown",
      "source": [
        "##Practical Questions"
      ],
      "metadata": {
        "id": "UhbXdpvwkov1"
      },
      "id": "UhbXdpvwkov1"
    },
    {
      "cell_type": "code",
      "source": [
        "# Question 1: How do you create a basic Flask application?\n",
        "from flask import Flask\n",
        "app = Flask(__name__)\n",
        "\n",
        "@app.route('/')\n",
        "def home():\n",
        "    return \"Hello, Flask!\"\n",
        "\n",
        "if __name__ == '__main__':\n",
        "    app.run(debug=True)"
      ],
      "metadata": {
        "colab": {
          "base_uri": "https://localhost:8080/"
        },
        "id": "WWx8y4uykuyN",
        "outputId": "64b052f9-76d0-4bc9-fdef-fe54ff6db17f"
      },
      "id": "WWx8y4uykuyN",
      "execution_count": 2,
      "outputs": [
        {
          "output_type": "stream",
          "name": "stdout",
          "text": [
            " * Serving Flask app '__main__'\n",
            " * Debug mode: on\n"
          ]
        },
        {
          "output_type": "stream",
          "name": "stderr",
          "text": [
            "INFO:werkzeug:\u001b[31m\u001b[1mWARNING: This is a development server. Do not use it in a production deployment. Use a production WSGI server instead.\u001b[0m\n",
            " * Running on http://127.0.0.1:5000\n",
            "INFO:werkzeug:\u001b[33mPress CTRL+C to quit\u001b[0m\n",
            "INFO:werkzeug: * Restarting with stat\n"
          ]
        }
      ]
    },
    {
      "cell_type": "code",
      "source": [
        "# Question 2: How do you serve static files like images or CSS in Flask?\n",
        "from flask import Flask, render_template\n",
        "\n",
        "app = Flask(__name__)\n",
        "\n",
        "@app.route('/')\n",
        "def index():\n",
        "    return render_template('index.html')  # Assumes there's an 'index.html' in a 'templates' folder\n",
        "\n",
        "if __name__ == '__main__':\n",
        "    app.run(debug=True)"
      ],
      "metadata": {
        "colab": {
          "base_uri": "https://localhost:8080/"
        },
        "id": "VJYe0fpmlgcH",
        "outputId": "40f66282-e232-4ff5-8fd2-caf7af79f93f"
      },
      "id": "VJYe0fpmlgcH",
      "execution_count": 3,
      "outputs": [
        {
          "output_type": "stream",
          "name": "stdout",
          "text": [
            " * Serving Flask app '__main__'\n",
            " * Debug mode: on\n"
          ]
        },
        {
          "output_type": "stream",
          "name": "stderr",
          "text": [
            "INFO:werkzeug:\u001b[31m\u001b[1mWARNING: This is a development server. Do not use it in a production deployment. Use a production WSGI server instead.\u001b[0m\n",
            " * Running on http://127.0.0.1:5000\n",
            "INFO:werkzeug:\u001b[33mPress CTRL+C to quit\u001b[0m\n",
            "INFO:werkzeug: * Restarting with stat\n"
          ]
        }
      ]
    },
    {
      "cell_type": "code",
      "source": [
        "# Question 3: How do you define different routes with different HTTP methods in Flask?\n",
        "@app.route('/get_example', methods=['GET'])\n",
        "def get_example():\n",
        "    return \"This is a GET request.\"\n",
        "\n",
        "@app.route('/post_example', methods=['POST'])\n",
        "def post_example():\n",
        "    return \"This is a POST request.\"\n"
      ],
      "metadata": {
        "id": "Pz_MlmrLmqbr"
      },
      "id": "Pz_MlmrLmqbr",
      "execution_count": 4,
      "outputs": []
    },
    {
      "cell_type": "code",
      "source": [
        "# Question 4: How do you render HTML templates in Flask?\n",
        "from flask import Flask, render_template\n",
        "\n",
        "app = Flask(__name__)\n",
        "\n",
        "@app.route('/')\n",
        "def home():\n",
        "    return render_template('index.html')  # Assumes 'index.html' exists in the 'templates' folder\n"
      ],
      "metadata": {
        "id": "HAupiFTpnTzC"
      },
      "id": "HAupiFTpnTzC",
      "execution_count": 5,
      "outputs": []
    },
    {
      "cell_type": "code",
      "source": [
        "# Question 5: How can you generate URLs for routes in Flask using url_for?\n",
        "from flask import Flask, url_for\n",
        "\n",
        "app = Flask(__name__)\n",
        "\n",
        "@app.route('/')\n",
        "def index():\n",
        "    return \"Homepage\"\n",
        "\n",
        "@app.route('/about')\n",
        "def about():\n",
        "    return \"About Page\"\n",
        "\n",
        "@app.route('/links')\n",
        "def links():\n",
        "    return f\"Go to {url_for('about')} for more info\"\n"
      ],
      "metadata": {
        "id": "auceC-93nWPB"
      },
      "id": "auceC-93nWPB",
      "execution_count": 6,
      "outputs": []
    },
    {
      "cell_type": "code",
      "source": [
        "# Question 6: How do you handle forms in Flask?\n",
        "from flask import Flask, request, render_template\n",
        "\n",
        "app = Flask(__name__)\n",
        "\n",
        "@app.route('/', methods=['GET', 'POST'])\n",
        "def form():\n",
        "    if request.method == 'POST':\n",
        "        name = request.form['name']\n",
        "        return f\"Hello, {name}!\"\n",
        "    return render_template('form.html')  # 'form.html' has an input field named 'name'\n"
      ],
      "metadata": {
        "id": "GIGTCwiGnYLt"
      },
      "id": "GIGTCwiGnYLt",
      "execution_count": 7,
      "outputs": []
    },
    {
      "cell_type": "code",
      "source": [
        "# Question 7: How can you validate form data in Flask?\n",
        "from flask import Flask, request, render_template\n",
        "\n",
        "app = Flask(__name__)\n",
        "\n",
        "@app.route('/', methods=['GET', 'POST'])\n",
        "def validate():\n",
        "    if request.method == 'POST':\n",
        "        name = request.form.get('name')\n",
        "        if not name:\n",
        "            return \"Name is required!\"\n",
        "        return f\"Hello, {name}!\"\n",
        "    return render_template('form.html')\n"
      ],
      "metadata": {
        "id": "wDUHUP-mnZ2E"
      },
      "id": "wDUHUP-mnZ2E",
      "execution_count": 8,
      "outputs": []
    },
    {
      "cell_type": "code",
      "source": [
        "# Question 8: How do you manage sessions in Flask?\n",
        "from flask import Flask, session\n",
        "\n",
        "app = Flask(__name__)\n",
        "app.secret_key = 'super_secret_key'\n",
        "\n",
        "@app.route('/set')\n",
        "def set_session():\n",
        "    session['user'] = 'John Doe'\n",
        "    return \"Session set!\"\n",
        "\n",
        "@app.route('/get')\n",
        "def get_session():\n",
        "    user = session.get('user', 'Guest')\n",
        "    return f\"Hello, {user}!\"\n"
      ],
      "metadata": {
        "id": "KU5wrSrenbTm"
      },
      "id": "KU5wrSrenbTm",
      "execution_count": 9,
      "outputs": []
    },
    {
      "cell_type": "code",
      "source": [
        "# Question 9: How do you redirect to a different route in Flask?\n",
        "from flask import Flask, redirect, url_for\n",
        "\n",
        "app = Flask(__name__)\n",
        "\n",
        "@app.route('/')\n",
        "def home():\n",
        "    return redirect(url_for('welcome'))\n",
        "\n",
        "@app.route('/welcome')\n",
        "def welcome():\n",
        "    return \"Welcome to the redirected page!\"\n"
      ],
      "metadata": {
        "id": "gcuW_-57nc7_"
      },
      "id": "gcuW_-57nc7_",
      "execution_count": 10,
      "outputs": []
    },
    {
      "cell_type": "code",
      "source": [
        "# Question 10: How do you handle errors in Flask (e.g., 404)?\n",
        "@app.errorhandler(404)\n",
        "def page_not_found(e):\n",
        "    return \"Oops! Page not found.\", 404\n"
      ],
      "metadata": {
        "id": "IcMTFMLjnnsa"
      },
      "id": "IcMTFMLjnnsa",
      "execution_count": 11,
      "outputs": []
    },
    {
      "cell_type": "code",
      "source": [
        "# Question 11: How do you structure a Flask app using Blueprints?\n",
        "from flask import Flask, Blueprint\n",
        "\n",
        "app = Flask(__name__)\n",
        "bp = Blueprint('example', __name__)\n",
        "\n",
        "@bp.route('/bp_route')\n",
        "def bp_route():\n",
        "    return \"Hello from Blueprint!\"\n",
        "\n",
        "app.register_blueprint(bp)\n"
      ],
      "metadata": {
        "id": "VwgxRro5noG6"
      },
      "id": "VwgxRro5noG6",
      "execution_count": 12,
      "outputs": []
    },
    {
      "cell_type": "code",
      "source": [
        "# Question 12: How do you define a custom Jinja filter in Flask?\n",
        "@app.template_filter('reverse_str')\n",
        "def reverse_string(s):\n",
        "    return s[::-1]\n",
        "\n",
        "@app.route('/reverse/<word>')\n",
        "def reverse(word):\n",
        "    return f\"Reversed: {reverse_string(word)}\"\n"
      ],
      "metadata": {
        "id": "zKcKeKtDnqxM"
      },
      "id": "zKcKeKtDnqxM",
      "execution_count": 13,
      "outputs": []
    },
    {
      "cell_type": "code",
      "source": [
        "# Question 13: How can you redirect with query parameters in Flask?\n",
        "from flask import Flask, redirect, request, url_for\n",
        "\n",
        "app = Flask(__name__)\n",
        "\n",
        "@app.route('/search')\n",
        "def search():\n",
        "    query = request.args.get('q', 'No query provided')\n",
        "    return f\"Search result for: {query}\"\n",
        "\n",
        "@app.route('/go')\n",
        "def go():\n",
        "    return redirect(url_for('search', q='Python Flask'))\n"
      ],
      "metadata": {
        "id": "AAbnXDjpnujV"
      },
      "id": "AAbnXDjpnujV",
      "execution_count": 14,
      "outputs": []
    },
    {
      "cell_type": "code",
      "source": [
        "# Question 14: How do you return JSON responses in Flask?\n",
        "from flask import Flask, jsonify\n",
        "\n",
        "app = Flask(__name__)\n",
        "\n",
        "@app.route('/data')\n",
        "def data():\n",
        "    return jsonify({'name': 'Alice', 'age': 25})\n"
      ],
      "metadata": {
        "id": "D3MlmmM4nwTs"
      },
      "id": "D3MlmmM4nwTs",
      "execution_count": 15,
      "outputs": []
    },
    {
      "cell_type": "code",
      "source": [
        "# Question 15: How do you capture URL parameters in Flask?\n",
        "@app.route('/user/<username>')\n",
        "def show_user(username):\n",
        "    return f\"User: {username}\"\n"
      ],
      "metadata": {
        "id": "EpaNQEX6nxxD"
      },
      "id": "EpaNQEX6nxxD",
      "execution_count": 16,
      "outputs": []
    }
  ],
  "metadata": {
    "kernelspec": {
      "display_name": "Python 3",
      "language": "python",
      "name": "python3"
    },
    "language_info": {
      "codemirror_mode": {
        "name": "ipython",
        "version": 3
      },
      "file_extension": ".py",
      "mimetype": "text/x-python",
      "name": "python",
      "nbconvert_exporter": "python",
      "pygments_lexer": "ipython3",
      "version": "3.10.9"
    },
    "colab": {
      "provenance": []
    }
  },
  "nbformat": 4,
  "nbformat_minor": 5
}